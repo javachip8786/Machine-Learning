{
 "cells": [
  {
   "cell_type": "code",
   "execution_count": 2,
   "metadata": {},
   "outputs": [],
   "source": [
    "import numpy as np\n",
    "import pandas as pd"
   ]
  },
  {
   "cell_type": "code",
   "execution_count": 3,
   "metadata": {},
   "outputs": [],
   "source": [
    "#importing training data and test data into the program\n",
    "train_data = pd.read_csv('input/train_data.csv')\n",
    "test_data = pd.read_csv('input/test_data.csv')"
   ]
  },
  {
   "cell_type": "code",
   "execution_count": 4,
   "metadata": {},
   "outputs": [],
   "source": [
    "def seq_to_ascii(x):\n",
    "    o = []\n",
    "    for i in range(x.shape[0]):\n",
    "        out = []\n",
    "        for c in x[i]:\n",
    "            #ASCII conversion of every sequence character\n",
    "            out.append((ord(c) - ord('A'))) \n",
    "            #converting every sequence into a list of integers where every integer represents the corresponding ASCII value\n",
    "        o.append(out)\n",
    "    return np.array(o)"
   ]
  },
  {
   "cell_type": "code",
   "execution_count": 5,
   "metadata": {},
   "outputs": [],
   "source": [
    "#importing library for oversampling\n",
    "from imblearn.combine import SMOTETomek"
   ]
  },
  {
   "cell_type": "code",
   "execution_count": 6,
   "metadata": {},
   "outputs": [
    {
     "data": {
      "text/plain": [
       "(36891, 17)"
      ]
     },
     "execution_count": 6,
     "metadata": {},
     "output_type": "execute_result"
    }
   ],
   "source": [
    "tr = train_data.values\n",
    "x_train = tr[:, 1]  # taking out values from dataframe\n",
    "# x_train = x_train[:, 1:]    #dropping sequence number\n",
    "x_train = seq_to_ascii(x_train)\n",
    "x_train = x_train.astype(np.float64) # converting from object type to float\n",
    "x_train.shape\n"
   ]
  },
  {
   "cell_type": "code",
   "execution_count": 7,
   "metadata": {},
   "outputs": [
    {
     "name": "stdout",
     "output_type": "stream",
     "text": [
      "(36891,)\n"
     ]
    }
   ],
   "source": [
    "y_train = train_data['label'].values\n",
    "print(y_train.shape)"
   ]
  },
  {
   "cell_type": "code",
   "execution_count": 8,
   "metadata": {},
   "outputs": [],
   "source": [
    "#oversampling data to have equal number of training samples and test samples\n",
    "smk = SMOTETomek(random_state=41)\n",
    "x_res, y_res = smk.fit_resample(x_train, y_train)"
   ]
  },
  {
   "cell_type": "code",
   "execution_count": 9,
   "metadata": {},
   "outputs": [
    {
     "name": "stdout",
     "output_type": "stream",
     "text": [
      "(70174, 17) (70174,)\n"
     ]
    }
   ],
   "source": [
    "# shape of data after oversampling\n",
    "print(x_res.shape, y_res.shape)"
   ]
  },
  {
   "cell_type": "code",
   "execution_count": 10,
   "metadata": {},
   "outputs": [
    {
     "name": "stdout",
     "output_type": "stream",
     "text": [
      "[[18  3 24 ... 10  3  6]\n",
      " [18 17 24 ... 10 13  2]\n",
      " [23 23 23 ... 16  5 21]\n",
      " ...\n",
      " [11  0  3 ... 23 23 23]\n",
      " [19 12  8 ...  4  8 19]\n",
      " [ 4  3  3 ...  6 17 21]]\n"
     ]
    }
   ],
   "source": [
    "#test data converted to csv\n",
    "ts = test_data.values\n",
    "x_test = ts[:, 1]\n",
    "test_x = seq_to_ascii(x_test)\n",
    "print(test_x)"
   ]
  },
  {
   "cell_type": "markdown",
   "metadata": {},
   "source": [
    "# Logistic Regression Model"
   ]
  },
  {
   "cell_type": "code",
   "execution_count": 11,
   "metadata": {},
   "outputs": [
    {
     "data": {
      "text/plain": [
       "SVC(C=0.01, kernel='linear', random_state=48)"
      ]
     },
     "execution_count": 11,
     "metadata": {},
     "output_type": "execute_result"
    }
   ],
   "source": [
    "\n",
    "from sklearn.pipeline import make_pipeline\n",
    "from sklearn.preprocessing import StandardScaler\n",
    "from sklearn.svm import SVC\n",
    "svm = SVC(kernel=\"linear\",C = 0.010,random_state = 48)\n",
    "svm.fit(x_res,y_res)"
   ]
  },
  {
   "cell_type": "code",
   "execution_count": 12,
   "metadata": {},
   "outputs": [
    {
     "data": {
      "text/plain": [
       "(9582,)"
      ]
     },
     "execution_count": 12,
     "metadata": {},
     "output_type": "execute_result"
    }
   ],
   "source": [
    "# Testing Model\n",
    "preds = svm.predict(test_x) #generating predictions\n",
    "preds.shape"
   ]
  },
  {
   "cell_type": "code",
   "execution_count": 13,
   "metadata": {},
   "outputs": [
    {
     "data": {
      "text/plain": [
       "4851"
      ]
     },
     "execution_count": 13,
     "metadata": {},
     "output_type": "execute_result"
    }
   ],
   "source": [
    "preds.tolist().count(1)"
   ]
  },
  {
   "cell_type": "code",
   "execution_count": 14,
   "metadata": {},
   "outputs": [],
   "source": [
    "#importing sample data\n",
    "sample_data = pd.read_csv('input/sample.csv')"
   ]
  },
  {
   "cell_type": "code",
   "execution_count": 15,
   "metadata": {},
   "outputs": [],
   "source": [
    "sample_data.Label  = preds\n",
    "sample_data.to_csv('output/svm2_ascii.csv', index=False)"
   ]
  },
  {
   "cell_type": "markdown",
   "metadata": {},
   "source": [
    "# Decision Tree Classifier"
   ]
  },
  {
   "cell_type": "code",
   "execution_count": 29,
   "metadata": {},
   "outputs": [],
   "source": [
    "from sklearn.model_selection import train_test_split\n",
    "from sklearn.tree import DecisionTreeClassifier\n",
    "from sklearn.metrics import accuracy_score\n",
    "from sklearn.preprocessing import StandardScaler"
   ]
  },
  {
   "cell_type": "code",
   "execution_count": 31,
   "metadata": {},
   "outputs": [],
   "source": [
    "#scaling\n",
    "sc = StandardScaler()\n",
    "x_transform = sc.fit_transform(x_res)"
   ]
  },
  {
   "cell_type": "code",
   "execution_count": 32,
   "metadata": {},
   "outputs": [
    {
     "data": {
      "text/plain": [
       "DecisionTreeClassifier()"
      ]
     },
     "execution_count": 32,
     "metadata": {},
     "output_type": "execute_result"
    }
   ],
   "source": [
    "# initializing model and fitting\n",
    "clf = DecisionTreeClassifier()\n",
    "clf.fit(x_res, y_res)"
   ]
  },
  {
   "cell_type": "code",
   "execution_count": 36,
   "metadata": {},
   "outputs": [
    {
     "name": "stdout",
     "output_type": "stream",
     "text": [
      "785\n"
     ]
    }
   ],
   "source": [
    "# extracting predictions and exporting as CSV\n",
    "preds = clf.predict(test_x)\n",
    "print(preds.tolist().count(1))\n",
    "#importing sample data\n",
    "sample_data = pd.read_csv('input/sample.csv')\n",
    "sample_data.Label = preds\n",
    "sample_data.to_csv('output/DT2_output.csv', index=False)"
   ]
  },
  {
   "cell_type": "markdown",
   "metadata": {},
   "source": [
    "# Random Forest"
   ]
  },
  {
   "cell_type": "code",
   "execution_count": 37,
   "metadata": {},
   "outputs": [],
   "source": [
    "from sklearn.ensemble import RandomForestClassifier"
   ]
  },
  {
   "cell_type": "code",
   "execution_count": 38,
   "metadata": {},
   "outputs": [
    {
     "data": {
      "text/plain": [
       "RandomForestClassifier(max_depth=2, random_state=0)"
      ]
     },
     "execution_count": 38,
     "metadata": {},
     "output_type": "execute_result"
    }
   ],
   "source": [
    "# initializing model and fitting\n",
    "clf = RandomForestClassifier(max_depth= 2, random_state=0)\n",
    "clf.fit(x_res, y_res)\n"
   ]
  },
  {
   "cell_type": "code",
   "execution_count": 43,
   "metadata": {},
   "outputs": [
    {
     "name": "stdout",
     "output_type": "stream",
     "text": [
      "5946\n"
     ]
    }
   ],
   "source": [
    "#generating predictions\n",
    "preds = clf.predict(test_x)\n",
    "#importing sample data\n",
    "sample_data = pd.read_csv('input/sample.csv')\n",
    "sample_data.Label = preds\n",
    "sample_data.to_csv('output/RF2_output.csv', index=False)\n",
    "print(preds.tolist().count(1))"
   ]
  },
  {
   "cell_type": "markdown",
   "metadata": {},
   "source": [
    "# K Nearest Neighbours"
   ]
  },
  {
   "cell_type": "code",
   "execution_count": 26,
   "metadata": {},
   "outputs": [],
   "source": [
    "from sklearn.neighbors import KNeighborsClassifier"
   ]
  },
  {
   "cell_type": "code",
   "execution_count": 27,
   "metadata": {},
   "outputs": [
    {
     "data": {
      "text/plain": [
       "KNeighborsClassifier()"
      ]
     },
     "execution_count": 27,
     "metadata": {},
     "output_type": "execute_result"
    }
   ],
   "source": [
    "clf = KNeighborsClassifier(n_neighbors=5)\n",
    "clf.fit(x_res, y_res)"
   ]
  },
  {
   "cell_type": "code",
   "execution_count": 28,
   "metadata": {},
   "outputs": [],
   "source": [
    "#generating predictions\n",
    "preds = clf.predict(x_test)\n"
   ]
  },
  {
   "cell_type": "code",
   "execution_count": 29,
   "metadata": {},
   "outputs": [],
   "source": [
    "sample_data.Label = preds\n",
    "sample_data.to_csv('output/KNN_5output.csv', index=False)"
   ]
  },
  {
   "cell_type": "code",
   "execution_count": 30,
   "metadata": {},
   "outputs": [
    {
     "data": {
      "text/plain": [
       "2859"
      ]
     },
     "execution_count": 30,
     "metadata": {},
     "output_type": "execute_result"
    }
   ],
   "source": [
    "preds.tolist().count(1)"
   ]
  },
  {
   "cell_type": "markdown",
   "metadata": {},
   "source": [
    "# Artificial Neural Network [ANN]"
   ]
  },
  {
   "cell_type": "code",
   "execution_count": 31,
   "metadata": {},
   "outputs": [],
   "source": [
    "# scaler to scale data\n",
    "from sklearn.preprocessing import MinMaxScaler"
   ]
  },
  {
   "cell_type": "code",
   "execution_count": 32,
   "metadata": {},
   "outputs": [],
   "source": [
    "train_res_x = MinMaxScaler().fit_transform(x_res)\n",
    "test_res_x = MinMaxScaler().fit_transform(x_test)"
   ]
  },
  {
   "cell_type": "code",
   "execution_count": 33,
   "metadata": {},
   "outputs": [],
   "source": [
    "#importing tensorflow for ANN model\n",
    "import tensorflow as tf\n",
    "import keras\n",
    "from keras.layers import *\n",
    "from keras.models import *\n",
    "from keras.preprocessing import image"
   ]
  },
  {
   "cell_type": "code",
   "execution_count": 55,
   "metadata": {},
   "outputs": [],
   "source": [
    "model = tf.keras.Sequential([\n",
    "    Dense(100, activation='relu', input_dim = 20),\n",
    "    Dense(100, activation='relu'),    \n",
    "    Dense(1, activation='sigmoid'),\n",
    " ])"
   ]
  },
  {
   "cell_type": "code",
   "execution_count": 56,
   "metadata": {},
   "outputs": [],
   "source": [
    "model.compile(\n",
    "    loss= 'binary_crossentropy',\n",
    "    optimizer= tf.keras.optimizers.Adam(learning_rate= 0.001,decay= 1e-6),\n",
    "    metrics= ['accuracy']\n",
    ")"
   ]
  },
  {
   "cell_type": "code",
   "execution_count": 58,
   "metadata": {},
   "outputs": [
    {
     "name": "stdout",
     "output_type": "stream",
     "text": [
      "Epoch 1/100\n",
      "1/1 - 0s - loss: 41.6703 - accuracy: 0.5000\n",
      "WARNING:tensorflow:Early stopping conditioned on metric `val_loss` which is not available. Available metrics are: loss,accuracy\n",
      "Epoch 2/100\n",
      "1/1 - 0s - loss: 37.9724 - accuracy: 0.5001\n",
      "WARNING:tensorflow:Early stopping conditioned on metric `val_loss` which is not available. Available metrics are: loss,accuracy\n",
      "Epoch 3/100\n",
      "1/1 - 0s - loss: 32.9573 - accuracy: 0.5001\n",
      "WARNING:tensorflow:Early stopping conditioned on metric `val_loss` which is not available. Available metrics are: loss,accuracy\n",
      "Epoch 4/100\n",
      "1/1 - 0s - loss: 27.0620 - accuracy: 0.5011\n",
      "WARNING:tensorflow:Early stopping conditioned on metric `val_loss` which is not available. Available metrics are: loss,accuracy\n",
      "Epoch 5/100\n",
      "1/1 - 0s - loss: 20.6759 - accuracy: 0.5168\n",
      "WARNING:tensorflow:Early stopping conditioned on metric `val_loss` which is not available. Available metrics are: loss,accuracy\n",
      "Epoch 6/100\n",
      "1/1 - 0s - loss: 14.4843 - accuracy: 0.5581\n",
      "WARNING:tensorflow:Early stopping conditioned on metric `val_loss` which is not available. Available metrics are: loss,accuracy\n",
      "Epoch 7/100\n",
      "1/1 - 0s - loss: 9.2817 - accuracy: 0.6067\n",
      "WARNING:tensorflow:Early stopping conditioned on metric `val_loss` which is not available. Available metrics are: loss,accuracy\n",
      "Epoch 8/100\n",
      "1/1 - 0s - loss: 6.0505 - accuracy: 0.6484\n",
      "WARNING:tensorflow:Early stopping conditioned on metric `val_loss` which is not available. Available metrics are: loss,accuracy\n",
      "Epoch 9/100\n",
      "1/1 - 0s - loss: 5.5491 - accuracy: 0.6649\n",
      "WARNING:tensorflow:Early stopping conditioned on metric `val_loss` which is not available. Available metrics are: loss,accuracy\n",
      "Epoch 10/100\n",
      "1/1 - 0s - loss: 7.1649 - accuracy: 0.6393\n",
      "WARNING:tensorflow:Early stopping conditioned on metric `val_loss` which is not available. Available metrics are: loss,accuracy\n",
      "Epoch 11/100\n",
      "1/1 - 0s - loss: 9.2241 - accuracy: 0.6055\n",
      "WARNING:tensorflow:Early stopping conditioned on metric `val_loss` which is not available. Available metrics are: loss,accuracy\n",
      "Epoch 12/100\n",
      "1/1 - 0s - loss: 10.6096 - accuracy: 0.5831\n",
      "WARNING:tensorflow:Early stopping conditioned on metric `val_loss` which is not available. Available metrics are: loss,accuracy\n",
      "Epoch 13/100\n",
      "1/1 - 0s - loss: 11.0500 - accuracy: 0.5733\n",
      "WARNING:tensorflow:Early stopping conditioned on metric `val_loss` which is not available. Available metrics are: loss,accuracy\n",
      "Epoch 14/100\n",
      "1/1 - 0s - loss: 10.6697 - accuracy: 0.5735\n",
      "WARNING:tensorflow:Early stopping conditioned on metric `val_loss` which is not available. Available metrics are: loss,accuracy\n",
      "Epoch 15/100\n",
      "1/1 - 0s - loss: 9.7065 - accuracy: 0.5814\n",
      "WARNING:tensorflow:Early stopping conditioned on metric `val_loss` which is not available. Available metrics are: loss,accuracy\n",
      "Epoch 16/100\n",
      "1/1 - 0s - loss: 8.4087 - accuracy: 0.5956\n",
      "WARNING:tensorflow:Early stopping conditioned on metric `val_loss` which is not available. Available metrics are: loss,accuracy\n",
      "Epoch 17/100\n",
      "1/1 - 0s - loss: 7.0043 - accuracy: 0.6152\n",
      "WARNING:tensorflow:Early stopping conditioned on metric `val_loss` which is not available. Available metrics are: loss,accuracy\n",
      "Epoch 18/100\n",
      "1/1 - 0s - loss: 5.6911 - accuracy: 0.6365\n",
      "WARNING:tensorflow:Early stopping conditioned on metric `val_loss` which is not available. Available metrics are: loss,accuracy\n",
      "Epoch 19/100\n",
      "1/1 - 0s - loss: 4.6279 - accuracy: 0.6560\n",
      "WARNING:tensorflow:Early stopping conditioned on metric `val_loss` which is not available. Available metrics are: loss,accuracy\n",
      "Epoch 20/100\n",
      "1/1 - 0s - loss: 3.9073 - accuracy: 0.6691\n",
      "WARNING:tensorflow:Early stopping conditioned on metric `val_loss` which is not available. Available metrics are: loss,accuracy\n",
      "Epoch 21/100\n",
      "1/1 - 0s - loss: 3.5470 - accuracy: 0.6704\n",
      "WARNING:tensorflow:Early stopping conditioned on metric `val_loss` which is not available. Available metrics are: loss,accuracy\n",
      "Epoch 22/100\n",
      "1/1 - 0s - loss: 3.4835 - accuracy: 0.6639\n",
      "WARNING:tensorflow:Early stopping conditioned on metric `val_loss` which is not available. Available metrics are: loss,accuracy\n",
      "Epoch 23/100\n",
      "1/1 - 0s - loss: 3.6023 - accuracy: 0.6573\n",
      "WARNING:tensorflow:Early stopping conditioned on metric `val_loss` which is not available. Available metrics are: loss,accuracy\n",
      "Epoch 24/100\n",
      "1/1 - 0s - loss: 3.7865 - accuracy: 0.6508\n",
      "WARNING:tensorflow:Early stopping conditioned on metric `val_loss` which is not available. Available metrics are: loss,accuracy\n",
      "Epoch 25/100\n",
      "1/1 - 0s - loss: 3.9486 - accuracy: 0.6441\n",
      "WARNING:tensorflow:Early stopping conditioned on metric `val_loss` which is not available. Available metrics are: loss,accuracy\n",
      "Epoch 26/100\n",
      "1/1 - 0s - loss: 4.0345 - accuracy: 0.6393\n",
      "WARNING:tensorflow:Early stopping conditioned on metric `val_loss` which is not available. Available metrics are: loss,accuracy\n",
      "Epoch 27/100\n",
      "1/1 - 0s - loss: 4.0213 - accuracy: 0.6366\n",
      "WARNING:tensorflow:Early stopping conditioned on metric `val_loss` which is not available. Available metrics are: loss,accuracy\n",
      "Epoch 28/100\n",
      "1/1 - 0s - loss: 3.9089 - accuracy: 0.6360\n",
      "WARNING:tensorflow:Early stopping conditioned on metric `val_loss` which is not available. Available metrics are: loss,accuracy\n",
      "Epoch 29/100\n",
      "1/1 - 0s - loss: 3.7123 - accuracy: 0.6382\n",
      "WARNING:tensorflow:Early stopping conditioned on metric `val_loss` which is not available. Available metrics are: loss,accuracy\n",
      "Epoch 30/100\n",
      "1/1 - 0s - loss: 3.4562 - accuracy: 0.6429\n",
      "WARNING:tensorflow:Early stopping conditioned on metric `val_loss` which is not available. Available metrics are: loss,accuracy\n",
      "Epoch 31/100\n",
      "1/1 - 0s - loss: 3.1702 - accuracy: 0.6466\n",
      "WARNING:tensorflow:Early stopping conditioned on metric `val_loss` which is not available. Available metrics are: loss,accuracy\n",
      "Epoch 32/100\n",
      "1/1 - 0s - loss: 2.8851 - accuracy: 0.6537\n",
      "WARNING:tensorflow:Early stopping conditioned on metric `val_loss` which is not available. Available metrics are: loss,accuracy\n",
      "Epoch 33/100\n",
      "1/1 - 0s - loss: 2.6287 - accuracy: 0.6600\n",
      "WARNING:tensorflow:Early stopping conditioned on metric `val_loss` which is not available. Available metrics are: loss,accuracy\n",
      "Epoch 34/100\n",
      "1/1 - 0s - loss: 2.4225 - accuracy: 0.6670\n",
      "WARNING:tensorflow:Early stopping conditioned on metric `val_loss` which is not available. Available metrics are: loss,accuracy\n",
      "Epoch 35/100\n",
      "1/1 - 0s - loss: 2.2779 - accuracy: 0.6728\n",
      "WARNING:tensorflow:Early stopping conditioned on metric `val_loss` which is not available. Available metrics are: loss,accuracy\n",
      "Epoch 36/100\n",
      "1/1 - 0s - loss: 2.1943 - accuracy: 0.6781\n",
      "WARNING:tensorflow:Early stopping conditioned on metric `val_loss` which is not available. Available metrics are: loss,accuracy\n",
      "Epoch 37/100\n",
      "1/1 - 0s - loss: 2.1610 - accuracy: 0.6785\n",
      "WARNING:tensorflow:Early stopping conditioned on metric `val_loss` which is not available. Available metrics are: loss,accuracy\n",
      "Epoch 38/100\n",
      "1/1 - 0s - loss: 2.1611 - accuracy: 0.6779\n",
      "WARNING:tensorflow:Early stopping conditioned on metric `val_loss` which is not available. Available metrics are: loss,accuracy\n",
      "Epoch 39/100\n",
      "1/1 - 0s - loss: 2.1760 - accuracy: 0.6766\n",
      "WARNING:tensorflow:Early stopping conditioned on metric `val_loss` which is not available. Available metrics are: loss,accuracy\n",
      "Epoch 40/100\n",
      "1/1 - 0s - loss: 2.1886 - accuracy: 0.6756\n",
      "WARNING:tensorflow:Early stopping conditioned on metric `val_loss` which is not available. Available metrics are: loss,accuracy\n",
      "Epoch 41/100\n",
      "1/1 - 0s - loss: 2.1870 - accuracy: 0.6735\n",
      "WARNING:tensorflow:Early stopping conditioned on metric `val_loss` which is not available. Available metrics are: loss,accuracy\n",
      "Epoch 42/100\n",
      "1/1 - 0s - loss: 2.1646 - accuracy: 0.6717\n",
      "WARNING:tensorflow:Early stopping conditioned on metric `val_loss` which is not available. Available metrics are: loss,accuracy\n",
      "Epoch 43/100\n",
      "1/1 - 0s - loss: 2.1204 - accuracy: 0.6715\n",
      "WARNING:tensorflow:Early stopping conditioned on metric `val_loss` which is not available. Available metrics are: loss,accuracy\n",
      "Epoch 44/100\n",
      "1/1 - 0s - loss: 2.0577 - accuracy: 0.6724\n",
      "WARNING:tensorflow:Early stopping conditioned on metric `val_loss` which is not available. Available metrics are: loss,accuracy\n",
      "Epoch 45/100\n",
      "1/1 - 0s - loss: 1.9828 - accuracy: 0.6747\n",
      "WARNING:tensorflow:Early stopping conditioned on metric `val_loss` which is not available. Available metrics are: loss,accuracy\n",
      "Epoch 46/100\n",
      "1/1 - 0s - loss: 1.9031 - accuracy: 0.6768\n",
      "WARNING:tensorflow:Early stopping conditioned on metric `val_loss` which is not available. Available metrics are: loss,accuracy\n",
      "Epoch 47/100\n",
      "1/1 - 0s - loss: 1.8262 - accuracy: 0.6785\n",
      "WARNING:tensorflow:Early stopping conditioned on metric `val_loss` which is not available. Available metrics are: loss,accuracy\n",
      "Epoch 48/100\n",
      "1/1 - 0s - loss: 1.7582 - accuracy: 0.6806\n",
      "WARNING:tensorflow:Early stopping conditioned on metric `val_loss` which is not available. Available metrics are: loss,accuracy\n",
      "Epoch 49/100\n",
      "1/1 - 0s - loss: 1.7030 - accuracy: 0.6816\n",
      "WARNING:tensorflow:Early stopping conditioned on metric `val_loss` which is not available. Available metrics are: loss,accuracy\n",
      "Epoch 50/100\n",
      "1/1 - 0s - loss: 1.6619 - accuracy: 0.6798\n",
      "WARNING:tensorflow:Early stopping conditioned on metric `val_loss` which is not available. Available metrics are: loss,accuracy\n",
      "Epoch 51/100\n",
      "1/1 - 0s - loss: 1.6338 - accuracy: 0.6788\n",
      "WARNING:tensorflow:Early stopping conditioned on metric `val_loss` which is not available. Available metrics are: loss,accuracy\n",
      "Epoch 52/100\n",
      "1/1 - 0s - loss: 1.6158 - accuracy: 0.6776\n",
      "WARNING:tensorflow:Early stopping conditioned on metric `val_loss` which is not available. Available metrics are: loss,accuracy\n",
      "Epoch 53/100\n",
      "1/1 - 0s - loss: 1.6038 - accuracy: 0.6751\n",
      "WARNING:tensorflow:Early stopping conditioned on metric `val_loss` which is not available. Available metrics are: loss,accuracy\n",
      "Epoch 54/100\n",
      "1/1 - 0s - loss: 1.5938 - accuracy: 0.6733\n",
      "WARNING:tensorflow:Early stopping conditioned on metric `val_loss` which is not available. Available metrics are: loss,accuracy\n",
      "Epoch 55/100\n",
      "1/1 - 0s - loss: 1.5825 - accuracy: 0.6720\n",
      "WARNING:tensorflow:Early stopping conditioned on metric `val_loss` which is not available. Available metrics are: loss,accuracy\n",
      "Epoch 56/100\n",
      "1/1 - 0s - loss: 1.5675 - accuracy: 0.6711\n",
      "WARNING:tensorflow:Early stopping conditioned on metric `val_loss` which is not available. Available metrics are: loss,accuracy\n",
      "Epoch 57/100\n",
      "1/1 - 0s - loss: 1.5478 - accuracy: 0.6708\n",
      "WARNING:tensorflow:Early stopping conditioned on metric `val_loss` which is not available. Available metrics are: loss,accuracy\n",
      "Epoch 58/100\n",
      "1/1 - 0s - loss: 1.5233 - accuracy: 0.6710\n",
      "WARNING:tensorflow:Early stopping conditioned on metric `val_loss` which is not available. Available metrics are: loss,accuracy\n",
      "Epoch 59/100\n",
      "1/1 - 0s - loss: 1.4953 - accuracy: 0.6723\n",
      "WARNING:tensorflow:Early stopping conditioned on metric `val_loss` which is not available. Available metrics are: loss,accuracy\n",
      "Epoch 60/100\n",
      "1/1 - 0s - loss: 1.4655 - accuracy: 0.6734\n",
      "WARNING:tensorflow:Early stopping conditioned on metric `val_loss` which is not available. Available metrics are: loss,accuracy\n",
      "Epoch 61/100\n",
      "1/1 - 0s - loss: 1.4358 - accuracy: 0.6745\n",
      "WARNING:tensorflow:Early stopping conditioned on metric `val_loss` which is not available. Available metrics are: loss,accuracy\n",
      "Epoch 62/100\n",
      "1/1 - 0s - loss: 1.4079 - accuracy: 0.6766\n",
      "WARNING:tensorflow:Early stopping conditioned on metric `val_loss` which is not available. Available metrics are: loss,accuracy\n",
      "Epoch 63/100\n",
      "1/1 - 0s - loss: 1.3830 - accuracy: 0.6775\n",
      "WARNING:tensorflow:Early stopping conditioned on metric `val_loss` which is not available. Available metrics are: loss,accuracy\n",
      "Epoch 64/100\n",
      "1/1 - 0s - loss: 1.3617 - accuracy: 0.6788\n",
      "WARNING:tensorflow:Early stopping conditioned on metric `val_loss` which is not available. Available metrics are: loss,accuracy\n",
      "Epoch 65/100\n",
      "1/1 - 0s - loss: 1.3439 - accuracy: 0.6804\n",
      "WARNING:tensorflow:Early stopping conditioned on metric `val_loss` which is not available. Available metrics are: loss,accuracy\n",
      "Epoch 66/100\n",
      "1/1 - 0s - loss: 1.3289 - accuracy: 0.6798\n",
      "WARNING:tensorflow:Early stopping conditioned on metric `val_loss` which is not available. Available metrics are: loss,accuracy\n",
      "Epoch 67/100\n",
      "1/1 - 0s - loss: 1.3154 - accuracy: 0.6787\n",
      "WARNING:tensorflow:Early stopping conditioned on metric `val_loss` which is not available. Available metrics are: loss,accuracy\n",
      "Epoch 68/100\n",
      "1/1 - 0s - loss: 1.3023 - accuracy: 0.6787\n",
      "WARNING:tensorflow:Early stopping conditioned on metric `val_loss` which is not available. Available metrics are: loss,accuracy\n",
      "Epoch 69/100\n",
      "1/1 - 0s - loss: 1.2886 - accuracy: 0.6795\n",
      "WARNING:tensorflow:Early stopping conditioned on metric `val_loss` which is not available. Available metrics are: loss,accuracy\n",
      "Epoch 70/100\n",
      "1/1 - 0s - loss: 1.2736 - accuracy: 0.6793\n",
      "WARNING:tensorflow:Early stopping conditioned on metric `val_loss` which is not available. Available metrics are: loss,accuracy\n",
      "Epoch 71/100\n",
      "1/1 - 0s - loss: 1.2573 - accuracy: 0.6795\n",
      "WARNING:tensorflow:Early stopping conditioned on metric `val_loss` which is not available. Available metrics are: loss,accuracy\n",
      "Epoch 72/100\n",
      "1/1 - 0s - loss: 1.2399 - accuracy: 0.6800\n",
      "WARNING:tensorflow:Early stopping conditioned on metric `val_loss` which is not available. Available metrics are: loss,accuracy\n",
      "Epoch 73/100\n",
      "1/1 - 0s - loss: 1.2219 - accuracy: 0.6801\n",
      "WARNING:tensorflow:Early stopping conditioned on metric `val_loss` which is not available. Available metrics are: loss,accuracy\n",
      "Epoch 74/100\n",
      "1/1 - 0s - loss: 1.2041 - accuracy: 0.6797\n",
      "WARNING:tensorflow:Early stopping conditioned on metric `val_loss` which is not available. Available metrics are: loss,accuracy\n",
      "Epoch 75/100\n",
      "1/1 - 0s - loss: 1.1869 - accuracy: 0.6804\n",
      "WARNING:tensorflow:Early stopping conditioned on metric `val_loss` which is not available. Available metrics are: loss,accuracy\n",
      "Epoch 76/100\n",
      "1/1 - 0s - loss: 1.1706 - accuracy: 0.6807\n",
      "WARNING:tensorflow:Early stopping conditioned on metric `val_loss` which is not available. Available metrics are: loss,accuracy\n",
      "Epoch 77/100\n",
      "1/1 - 0s - loss: 1.1555 - accuracy: 0.6811\n",
      "WARNING:tensorflow:Early stopping conditioned on metric `val_loss` which is not available. Available metrics are: loss,accuracy\n",
      "Epoch 78/100\n",
      "1/1 - 0s - loss: 1.1413 - accuracy: 0.6808\n",
      "WARNING:tensorflow:Early stopping conditioned on metric `val_loss` which is not available. Available metrics are: loss,accuracy\n",
      "Epoch 79/100\n",
      "1/1 - 0s - loss: 1.1277 - accuracy: 0.6808\n",
      "WARNING:tensorflow:Early stopping conditioned on metric `val_loss` which is not available. Available metrics are: loss,accuracy\n",
      "Epoch 80/100\n",
      "1/1 - 0s - loss: 1.1146 - accuracy: 0.6807\n",
      "WARNING:tensorflow:Early stopping conditioned on metric `val_loss` which is not available. Available metrics are: loss,accuracy\n",
      "Epoch 81/100\n",
      "1/1 - 0s - loss: 1.1013 - accuracy: 0.6811\n",
      "WARNING:tensorflow:Early stopping conditioned on metric `val_loss` which is not available. Available metrics are: loss,accuracy\n",
      "Epoch 82/100\n",
      "1/1 - 0s - loss: 1.0879 - accuracy: 0.6807\n",
      "WARNING:tensorflow:Early stopping conditioned on metric `val_loss` which is not available. Available metrics are: loss,accuracy\n",
      "Epoch 83/100\n",
      "1/1 - 0s - loss: 1.0740 - accuracy: 0.6803\n",
      "WARNING:tensorflow:Early stopping conditioned on metric `val_loss` which is not available. Available metrics are: loss,accuracy\n",
      "Epoch 84/100\n",
      "1/1 - 0s - loss: 1.0599 - accuracy: 0.6803\n",
      "WARNING:tensorflow:Early stopping conditioned on metric `val_loss` which is not available. Available metrics are: loss,accuracy\n",
      "Epoch 85/100\n",
      "1/1 - 0s - loss: 1.0457 - accuracy: 0.6808\n",
      "WARNING:tensorflow:Early stopping conditioned on metric `val_loss` which is not available. Available metrics are: loss,accuracy\n",
      "Epoch 86/100\n",
      "1/1 - 0s - loss: 1.0315 - accuracy: 0.6810\n",
      "WARNING:tensorflow:Early stopping conditioned on metric `val_loss` which is not available. Available metrics are: loss,accuracy\n",
      "Epoch 87/100\n",
      "1/1 - 0s - loss: 1.0176 - accuracy: 0.6813\n",
      "WARNING:tensorflow:Early stopping conditioned on metric `val_loss` which is not available. Available metrics are: loss,accuracy\n",
      "Epoch 88/100\n",
      "1/1 - 0s - loss: 1.0042 - accuracy: 0.6815\n",
      "WARNING:tensorflow:Early stopping conditioned on metric `val_loss` which is not available. Available metrics are: loss,accuracy\n",
      "Epoch 89/100\n",
      "1/1 - 0s - loss: 0.9914 - accuracy: 0.6815\n",
      "WARNING:tensorflow:Early stopping conditioned on metric `val_loss` which is not available. Available metrics are: loss,accuracy\n",
      "Epoch 90/100\n",
      "1/1 - 0s - loss: 0.9790 - accuracy: 0.6813\n",
      "WARNING:tensorflow:Early stopping conditioned on metric `val_loss` which is not available. Available metrics are: loss,accuracy\n",
      "Epoch 91/100\n",
      "1/1 - 0s - loss: 0.9668 - accuracy: 0.6811\n",
      "WARNING:tensorflow:Early stopping conditioned on metric `val_loss` which is not available. Available metrics are: loss,accuracy\n",
      "Epoch 92/100\n",
      "1/1 - 0s - loss: 0.9546 - accuracy: 0.6812\n",
      "WARNING:tensorflow:Early stopping conditioned on metric `val_loss` which is not available. Available metrics are: loss,accuracy\n",
      "Epoch 93/100\n",
      "1/1 - 0s - loss: 0.9422 - accuracy: 0.6809\n",
      "WARNING:tensorflow:Early stopping conditioned on metric `val_loss` which is not available. Available metrics are: loss,accuracy\n",
      "Epoch 94/100\n",
      "1/1 - 0s - loss: 0.9297 - accuracy: 0.6814\n",
      "WARNING:tensorflow:Early stopping conditioned on metric `val_loss` which is not available. Available metrics are: loss,accuracy\n",
      "Epoch 95/100\n",
      "1/1 - 0s - loss: 0.9172 - accuracy: 0.6815\n",
      "WARNING:tensorflow:Early stopping conditioned on metric `val_loss` which is not available. Available metrics are: loss,accuracy\n",
      "Epoch 96/100\n",
      "1/1 - 0s - loss: 0.9050 - accuracy: 0.6813\n",
      "WARNING:tensorflow:Early stopping conditioned on metric `val_loss` which is not available. Available metrics are: loss,accuracy\n",
      "Epoch 97/100\n",
      "1/1 - 0s - loss: 0.8933 - accuracy: 0.6814\n",
      "WARNING:tensorflow:Early stopping conditioned on metric `val_loss` which is not available. Available metrics are: loss,accuracy\n",
      "Epoch 98/100\n",
      "1/1 - 0s - loss: 0.8821 - accuracy: 0.6810\n",
      "WARNING:tensorflow:Early stopping conditioned on metric `val_loss` which is not available. Available metrics are: loss,accuracy\n",
      "Epoch 99/100\n",
      "1/1 - 0s - loss: 0.8711 - accuracy: 0.6806\n",
      "WARNING:tensorflow:Early stopping conditioned on metric `val_loss` which is not available. Available metrics are: loss,accuracy\n",
      "Epoch 100/100\n",
      "1/1 - 0s - loss: 0.8603 - accuracy: 0.6800\n",
      "WARNING:tensorflow:Early stopping conditioned on metric `val_loss` which is not available. Available metrics are: loss,accuracy\n"
     ]
    }
   ],
   "source": [
    "early_stopping = tf.keras.callbacks.EarlyStopping(\n",
    "    patience=10,\n",
    "    restore_best_weights=True,\n",
    "    min_delta=0.0005,\n",
    ")\n",
    "history = model.fit(\n",
    "    x_res, y_res,\n",
    "    verbose= 2,\n",
    "    batch_size= len(x_res),\n",
    "    epochs= 100,\n",
    "    callbacks=[early_stopping]\n",
    ")"
   ]
  },
  {
   "cell_type": "code",
   "execution_count": 75,
   "metadata": {},
   "outputs": [],
   "source": [
    "preds = model.predict(x_test.astype(np.float32))"
   ]
  },
  {
   "cell_type": "code",
   "execution_count": 76,
   "metadata": {},
   "outputs": [],
   "source": [
    "preds = np.round(preds)"
   ]
  },
  {
   "cell_type": "code",
   "execution_count": 77,
   "metadata": {},
   "outputs": [],
   "source": [
    "preds = preds.astype(np.int64)"
   ]
  },
  {
   "cell_type": "code",
   "execution_count": 79,
   "metadata": {},
   "outputs": [],
   "source": [
    "sample_data.Label = preds\n",
    "sample_data.to_csv('output/seqNN_output.csv', index=False)"
   ]
  },
  {
   "cell_type": "code",
   "execution_count": 81,
   "metadata": {},
   "outputs": [
    {
     "data": {
      "text/plain": [
       "(9582, 1)"
      ]
     },
     "execution_count": 81,
     "metadata": {},
     "output_type": "execute_result"
    }
   ],
   "source": [
    "preds.shape"
   ]
  },
  {
   "cell_type": "code",
   "execution_count": null,
   "metadata": {},
   "outputs": [],
   "source": []
  }
 ],
 "metadata": {
  "interpreter": {
   "hash": "aee8b7b246df8f9039afb4144a1f6fd8d2ca17a180786b69acc140d282b71a49"
  },
  "kernelspec": {
   "display_name": "Python 3.9.7 64-bit",
   "name": "python3"
  },
  "language_info": {
   "codemirror_mode": {
    "name": "ipython",
    "version": 3
   },
   "file_extension": ".py",
   "mimetype": "text/x-python",
   "name": "python",
   "nbconvert_exporter": "python",
   "pygments_lexer": "ipython3",
   "version": "3.9.7"
  },
  "orig_nbformat": 4
 },
 "nbformat": 4,
 "nbformat_minor": 2
}
